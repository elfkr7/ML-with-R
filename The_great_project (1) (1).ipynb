{
 "cells": [
  {
   "cell_type": "code",
   "execution_count": null,
   "metadata": {},
   "outputs": [],
   "source": [
    "library(data.table) # to handle the data in a more convenient manner\n",
    "library(tidyverse) # for a better work flow and more tools to wrangle and visualize the data\n",
    "library(tm) # for text mining\n",
    "library(SnowballC) # for word stemming\n",
    "library(gridExtra) # for multiple plots\n",
    "library(wordcloud) # visualize text data\n",
    "library(RColorBrewer) # for beautifying visualizations with custom colors\n",
    "library(e1071) # for naive bayes\n",
    "library(gmodels) # model evaluation\n",
    "library(knitr) # for better table printing\n",
    "library(kableExtra) # for better table printing\n",
    "library(scales) # for formatting numbers\n",
    "library(magrittr) # tools for better handling data structures\n",
    "library(purrr) # tools for better handling data structures\n",
    "library(IRdisplay) # printing html tables from kable\n",
    "options(warn = -1) # for suppressing messages\n",
    "library(plotly)\n",
    "library(data.table) # to handle the data in a more convenient manner\n",
    "library(tidyverse) # for a better work flow and more tools to wrangle and visualize the data\n",
    "library(BBmisc) # for easy normalization of data\n",
    "library(class) # for kNN classification algorithm \n",
    "#library(knnGarden) # knn classification algorithm\n",
    "library(gmodels) # for model evaluation\n",
    "library(plotly) # for interactive visualization\n",
    "library(rebmix) # to load necessary data\n",
    "library(corrplot) # for correlation plots\n",
    "library(reshape2) # to melt data for boxplots\n",
    "options(warn=-1) # for suppressing messages"
   ]
  },
  {
   "cell_type": "code",
   "execution_count": null,
   "metadata": {},
   "outputs": [],
   "source": [
    "loan.dt <- fread(\"../data/csv/loan_final313.csv\", stringsAsFactors=TRUE)"
   ]
  },
  {
   "cell_type": "code",
   "execution_count": null,
   "metadata": {
    "scrolled": true
   },
   "outputs": [],
   "source": [
    "str(loan.dt)"
   ]
  },
  {
   "cell_type": "code",
   "execution_count": null,
   "metadata": {
    "scrolled": true
   },
   "outputs": [],
   "source": [
    "loan <- copy(loan.dt)\n",
    "sapply(loan, function(x) length(unique(x)))\n",
    "a <- as.data.table(sapply(loan, function(x) length(unique(x))))\n",
    "b <- cbind(names(loan),a) \n",
    "colnames(b)<- c(\"name\",\"count\")"
   ]
  },
  {
   "cell_type": "code",
   "execution_count": null,
   "metadata": {},
   "outputs": [],
   "source": [
    "loan[,b[count==1,name]:=NULL]\n",
    "loan[,id:=NULL]\n",
    "loan[,c(\"home_ownership_cat\",\"income_cat\",\"term_cat\",\"purpose_cat\",\"interest_payment_cat\",\n",
    "        \"loan_condition_cat\",\"grade_cat\"):=NULL]\n",
    "loan[,c(\"issue_d\",\"final_d\"):=NULL]"
   ]
  },
  {
   "cell_type": "code",
   "execution_count": null,
   "metadata": {},
   "outputs": [],
   "source": [
    "loan_factors <- loan %>% purrr::keep(is.factor) %>% # select factor columns\n",
    "    tidyr::gather() %>% # convert into long format for faceting\n",
    "    ggplot(aes(x = value)) + # plot value\n",
    "    facet_wrap(~ key, scales = \"free\") + # divide into separate plots by key\n",
    "    geom_bar()\n",
    "\n",
    "plotly::ggplotly(loan_factors)"
   ]
  },
  {
   "cell_type": "code",
   "execution_count": null,
   "metadata": {},
   "outputs": [],
   "source": [
    "loan %>% purrr::keep(is.numeric) %>% # select columns\n",
    "    tidyr::gather() %>% # reshape into long format in columns \"key\" and \"value\"\n",
    "    ggplot(aes(value)) + # plot value\n",
    "        facet_wrap(~ key, scale = \"free\" ) + # divide into separate plots by key\n",
    "        geom_density(fill = \"green\")  # get density plots"
   ]
  },
  {
   "cell_type": "code",
   "execution_count": null,
   "metadata": {},
   "outputs": [],
   "source": [
    "set.seed(2018)\n",
    "loan1 <- loan[,-c(\"loan_condition\")]\n",
    "train <- loan1[,sample(.I, .N*3/4)]\n",
    "labels <- factor(loan$loan_condition, labels = c(\"bad\", \"good\"))"
   ]
  },
  {
   "cell_type": "code",
   "execution_count": null,
   "metadata": {
    "scrolled": true
   },
   "outputs": [],
   "source": [
    "fit1 <- e1071::naiveBayes(formula = labels[train] ~ ., data = loan1[train])"
   ]
  },
  {
   "cell_type": "code",
   "execution_count": null,
   "metadata": {},
   "outputs": [],
   "source": [
    "fit1"
   ]
  },
  {
   "cell_type": "code",
   "execution_count": null,
   "metadata": {
    "scrolled": true
   },
   "outputs": [],
   "source": [
    "pred_probs <- predict(fit1, loan1[-train], type = \"raw\")\n",
    "pred_percent <- pred_probs %>% apply(2, scales::percent, accuracy = 0.01)\n",
    "pred_percent"
   ]
  },
  {
   "cell_type": "code",
   "execution_count": null,
   "metadata": {
    "scrolled": true
   },
   "outputs": [],
   "source": [
    "labs <- colnames(pred_percent)[max.col(pred_probs)]\n",
    "\n",
    "pred_percent %>%\n",
    "    magrittr::set_rownames(labs)"
   ]
  },
  {
   "cell_type": "code",
   "execution_count": null,
   "metadata": {
    "scrolled": true
   },
   "outputs": [],
   "source": [
    "pred <- predict(fit1, loan1[-train], type = \"class\")\n",
    "pred"
   ]
  },
  {
   "cell_type": "code",
   "execution_count": null,
   "metadata": {},
   "outputs": [],
   "source": [
    "identical(labs, as.character(pred))"
   ]
  },
  {
   "cell_type": "code",
   "execution_count": null,
   "metadata": {
    "scrolled": true
   },
   "outputs": [],
   "source": [
    "result <- caret::confusionMatrix(pred, labels[-train])\n",
    "result"
   ]
  },
  {
   "cell_type": "code",
   "execution_count": null,
   "metadata": {},
   "outputs": [],
   "source": [
    "str(result)"
   ]
  },
  {
   "cell_type": "code",
   "execution_count": null,
   "metadata": {},
   "outputs": [],
   "source": [
    "result$overall[1]"
   ]
  },
  {
   "cell_type": "code",
   "execution_count": null,
   "metadata": {},
   "outputs": [],
   "source": [
    "loan1 %>% purrr::keep(is.numeric) %>% \n",
    "cor() %>%\n",
    "corrplot::corrplot.mixed(upper = \"ellipse\",\n",
    "                         lower = \"number\",\n",
    "                         tl.pos = \"lt\",\n",
    "                         number.cex = .5,\n",
    "                         lower.col = \"black\",\n",
    "                         tl.cex = 0.7)"
   ]
  },
  {
   "cell_type": "code",
   "execution_count": null,
   "metadata": {
    "scrolled": true
   },
   "outputs": [],
   "source": [
    "set.seed(2018)\n",
    "loan2 <- loan[,-c(\"loan_condition\",\"loan_amount\")]\n",
    "train2 <- loan2[,sample(.I, .N*3/4)]\n",
    "labels <- factor(loan$loan_condition, labels = c(\"bad\", \"good\"))\n",
    "fit2 <- e1071::naiveBayes(formula = labels[train2] ~ ., data = loan2[train2])\n",
    "pred_probs2 <- predict(fit2, loan2[-train2], type = \"raw\")\n",
    "pred_percent2 <- pred_probs2 %>% apply(2, scales::percent, accuracy = 0.01)\n",
    "labs2 <- colnames(pred_percent2)[max.col(pred_probs2)]\n",
    "pred_percent2 %>%\n",
    "    magrittr::set_rownames(labs2)"
   ]
  },
  {
   "cell_type": "code",
   "execution_count": null,
   "metadata": {
    "scrolled": true
   },
   "outputs": [],
   "source": [
    "pred2 <- predict(fit2, loan2[-train2], type = \"class\")\n",
    "identical(labs2, as.character(pred2))\n",
    "result2 <- caret::confusionMatrix(pred2, labels[-train2])\n",
    "result2"
   ]
  },
  {
   "cell_type": "code",
   "execution_count": null,
   "metadata": {},
   "outputs": [],
   "source": [
    "plot_ly(loan[-train2], \n",
    "        x = ~loan_condition,\n",
    "        type = \"histogram\")\n",
    "1-207/(1043+207)"
   ]
  },
  {
   "cell_type": "code",
   "execution_count": null,
   "metadata": {},
   "outputs": [],
   "source": [
    "loan_ <- copy(loan.dt)\n",
    "a <- as.data.table(sapply(loan_, function(x) length(unique(x))))\n",
    "b <- cbind(names(loan_),a) \n",
    "colnames(b)<- c(\"name\",\"count\")\n",
    "loan_[,b[count==1,name]:=NULL]\n",
    "loan_[,id:=NULL]\n",
    "loan_[,c(\"home_ownership\",\"income_category\",\"term\",\"purpose\",\"interest_payments\",\n",
    "        \"loan_condition_cat\",\"grade\",\"region\"):=NULL]\n",
    "loan_[,c(\"issue_d\",\"final_d\"):=NULL]\n",
    "                          "
   ]
  },
  {
   "cell_type": "code",
   "execution_count": null,
   "metadata": {
    "scrolled": true
   },
   "outputs": [],
   "source": [
    "\n",
    "loan_n <- loan_[,BBmisc::normalize(.SD, \"range\"), .SDcols = -1]\n",
    "loan_n\n"
   ]
  },
  {
   "cell_type": "code",
   "execution_count": null,
   "metadata": {},
   "outputs": [],
   "source": [
    "set.seed(20)\n",
    "loan_n1 <- loan_n[,-c(\"loan_condition\")]\n",
    "train <- loan_n[,sample(.I, .N*3/4)]\n",
    "\n",
    "loan_train <- loan_n1[train]\n",
    "loan_test <- loan_n1[-train]\n",
    "loan_train_labels <- loan_n[train,loan_condition]\n",
    "loan_test_labels <- loan_n[-train,loan_condition]"
   ]
  },
  {
   "cell_type": "code",
   "execution_count": null,
   "metadata": {},
   "outputs": [],
   "source": [
    "loan_test_pred <- class::knn(train = loan_train,\n",
    "                            test = loan_test,\n",
    "                            cl = loan_train_labels,\n",
    "                            k = 2)"
   ]
  },
  {
   "cell_type": "code",
   "execution_count": null,
   "metadata": {
    "scrolled": true
   },
   "outputs": [],
   "source": [
    "ct1 <- gmodels::CrossTable(x = loan_test_labels,\n",
    "                   y = loan_test_pred,\n",
    "                   prop.chisq = F)\n",
    "ct1"
   ]
  },
  {
   "cell_type": "code",
   "execution_count": null,
   "metadata": {},
   "outputs": [],
   "source": [
    "# using base-r notation. to interpret, read from inside out (much harder)\n",
    "sum(diag(ct1$prop.tbl))\n",
    "\n",
    "# using the tidyverse piped notation. to interpret read from left to right (much easier)\n",
    "ct1$prop.tbl %>% diag() %>% sum()\n",
    "\n",
    "# we can further split the first column subset step using the functional syntax for operators:\n",
    "ct1 %>% \"[[\"(\"prop.tbl\") %>% diag() %>% sum()"
   ]
  },
  {
   "cell_type": "code",
   "execution_count": null,
   "metadata": {
    "scrolled": true
   },
   "outputs": [],
   "source": [
    "k_batch <- function(kval = 2)\n",
    "{\n",
    "    # run prediction model\n",
    "    loan_test_pred1 <- class::knn(train = loan_train,\n",
    "                            test = loan_test,\n",
    "                            cl = loan_train_labels,\n",
    "                            k = kval)\n",
    "    \n",
    "    # count unequal pairs and divide by test size\n",
    "    error_rate <- sum(loan_test_labels != loan_test_pred1) / length(train)\n",
    "\n",
    "    # report findings\n",
    "    c(kval, error_rate)\n",
    "\n",
    "}\n",
    "\n",
    "# run the model for all k = 1 to 88\n",
    "report <- t(sapply(1:88, k_batch))\n",
    "\n",
    "# change column names\n",
    "colnames(report)  <- c(\"k value\", \"Error rate\")\n",
    "\n",
    "# return the matrix object\n",
    "report"
   ]
  },
  {
   "cell_type": "code",
   "execution_count": null,
   "metadata": {},
   "outputs": [],
   "source": [
    "# object should a data frame, not a matrix\n",
    "df1 <- as.data.frame(report)\n",
    "\n",
    "# create ggplot object with line and point geoms, point color and sizes and tooltip text\n",
    "# note the vectorized \"ifelse\" function to create vectors of colors and sizes\n",
    "gp <- ggplot2::ggplot(df1, aes(x = `k value`, y = `Error rate` )) +\n",
    "geom_line(linetype = \"dashed\") +\n",
    "geom_point(color = ifelse(df1[[2]] == min(df1[[2]]), \"red\", \"blue\"),\n",
    "        size = ifelse(df1[[2]] == min(df1[[2]]), 6, 2),\n",
    "        mapping = aes(text = paste(\"k value: \", df1[[1]], \"\\n\", \"incorrect: \", df1[[2]]))) +\n",
    "        labs(x = \"k value\", y = \"total incorrect\")\n",
    "\n",
    "# Convert to plotly object for interactive tooltip\n",
    "plotly::ggplotly(gp, tooltip = c(\"text\"))"
   ]
  },
  {
   "cell_type": "code",
   "execution_count": null,
   "metadata": {},
   "outputs": [],
   "source": [
    "sprintf(\"So, when the k value is %s, count of incorrect is at a minimum of %s\",\n",
    "        which.min(report[,2]),\n",
    "        min(report[,2]))"
   ]
  },
  {
   "cell_type": "code",
   "execution_count": null,
   "metadata": {
    "scrolled": true
   },
   "outputs": [],
   "source": [
    "loan_test_pred2 <- class::knn(train = loan_train,\n",
    "                            test = loan_test,\n",
    "                            cl = loan_train_labels,\n",
    "                            k = which.min(report[,2]))\n",
    "ct2 <- gmodels::CrossTable(x = loan_test_labels,\n",
    "                   y = loan_test_pred2,\n",
    "                   prop.chisq = F)\n",
    "ct2"
   ]
  },
  {
   "cell_type": "code",
   "execution_count": null,
   "metadata": {},
   "outputs": [],
   "source": [
    "sum(diag(ct2$prop.tbl))"
   ]
  },
  {
   "cell_type": "code",
   "execution_count": null,
   "metadata": {},
   "outputs": [],
   "source": []
  }
 ],
 "metadata": {
  "kernelspec": {
   "display_name": "R",
   "language": "R",
   "name": "ir"
  },
  "language_info": {
   "codemirror_mode": "r",
   "file_extension": ".r",
   "mimetype": "text/x-r-source",
   "name": "R",
   "pygments_lexer": "r",
   "version": "3.4.4"
  },
  "toc": {
   "base_numbering": 1,
   "nav_menu": {},
   "number_sections": true,
   "sideBar": true,
   "skip_h1_title": false,
   "title_cell": "Table of Contents",
   "title_sidebar": "Contents",
   "toc_cell": false,
   "toc_position": {},
   "toc_section_display": true,
   "toc_window_display": false
  }
 },
 "nbformat": 4,
 "nbformat_minor": 2
}
