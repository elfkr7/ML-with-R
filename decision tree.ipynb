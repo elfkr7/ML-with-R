{
 "cells": [
  {
   "cell_type": "code",
   "execution_count": null,
   "metadata": {},
   "outputs": [],
   "source": [
    "library(data.table) # to handle the data in a more convenient manner\n",
    "library(tidyverse) # for a better work flow and more tools to wrangle and visualize the data\n",
    "library(C50) # for C5.0 decision tree algorithm\n",
    "library(gmodels) # for model evaluation\n",
    "library(plotly)\n",
    "library(tree) # for improved decision trees\n",
    "library(listviewer) # for navigating nested/list objects\n",
    "library(scales) # for formatting numbers\n",
    "library(IRdisplay) # to help pretty print tables\n",
    "options(warn = -1) # for suppressing messages"
   ]
  },
  {
   "cell_type": "code",
   "execution_count": null,
   "metadata": {},
   "outputs": [],
   "source": [
    "loan <- fread(\"../data/csv/loan_final313.csv\", stringsAsFactors=TRUE)"
   ]
  },
  {
   "cell_type": "code",
   "execution_count": null,
   "metadata": {},
   "outputs": [],
   "source": [
    "str(loan)"
   ]
  },
  {
   "cell_type": "code",
   "execution_count": null,
   "metadata": {},
   "outputs": [],
   "source": [
    "summary(loan)"
   ]
  },
  {
   "cell_type": "code",
   "execution_count": null,
   "metadata": {},
   "outputs": [],
   "source": [
    "loan.dt<-as.data.table(loan)\n",
    "sapply(loan.dt, function(x) length(unique(x)))\n",
    "a <- as.data.table(sapply(loan.dt, function(x) length(unique(x))))\n",
    "b <- cbind(names(loan.dt),a) \n",
    "colnames(b)<- c(\"name\",\"count\")\n",
    "loan.dt[,b[count==1,name]:=NULL]\n",
    "loan.dt[,id:=NULL]\n",
    "loan.dt[,c(\"home_ownership_cat\",\"income_cat\",\"term_cat\",\"purpose_cat\",\"interest_payment_cat\",\n",
    "        \"loan_condition_cat\",\"grade_cat\"):=NULL]\n",
    "loan.dt[,c(\"issue_d\",\"final_d\"):=NULL]"
   ]
  },
  {
   "cell_type": "code",
   "execution_count": null,
   "metadata": {},
   "outputs": [],
   "source": [
    "loan_num <- loan %>% purrr::keep(is.numeric)\n",
    "summaries <- loan_num %>%\n",
    "  summary() %>% # get statistical summaries\n",
    "  apply(1, function(x) stringr::str_extract(x, \"(?<=:).+\") %>% as.numeric) %>%\n",
    "  magrittr::set_colnames(names(summary(1))) %>% # set column names\n",
    "  magrittr::set_rownames(names(loan_num)) # set row names\n",
    "\n",
    "summaries"
   ]
  },
  {
   "cell_type": "code",
   "execution_count": null,
   "metadata": {},
   "outputs": [],
   "source": [
    "plotly::plot_ly(loan, x = ~loan_condition, type = \"histogram\")"
   ]
  },
  {
   "cell_type": "code",
   "execution_count": null,
   "metadata": {},
   "outputs": [],
   "source": [
    "loan.dt[,!\"loan_condition\"] %>% # select columns\n",
    "  tidyr::gather() %>% # reshape into long format in columns \"key\" and \"value\"\n",
    "  ggplot(aes(value)) + # plot value\n",
    "  facet_wrap(~ key, scale = \"free\" ) + # divide into separate plots by key\n",
    "  geom_density(fill = \"green\")  # get density plots"
   ]
  },
  {
   "cell_type": "code",
   "execution_count": null,
   "metadata": {},
   "outputs": [],
   "source": [
    "loan.dt1<-loan.dt %>% purrr::keep(is.numeric)"
   ]
  },
  {
   "cell_type": "code",
   "execution_count": null,
   "metadata": {},
   "outputs": [],
   "source": [
    "cor(loan.dt1) %>%\n",
    "  corrplot::corrplot.mixed(upper = \"ellipse\",\n",
    "                           lower = \"number\",\n",
    "                           tl.pos = \"lt\",\n",
    "                           number.cex = .5,\n",
    "                           lower.col = \"blue\",\n",
    "                           tl.cex = 0.7)"
   ]
  },
  {
   "cell_type": "code",
   "execution_count": null,
   "metadata": {
    "scrolled": true
   },
   "outputs": [],
   "source": [
    "set.seed(1903)\n",
    "train <- loan.dt[ ,sample(.I, .N * 3/4)]\n",
    "fitc1 <- C50::C5.0(loan_condition~ ., data = loan.dt[train])\n",
    "fitc <- C50::C5.0(loan.dt[train, -\"loan_condition\"], loan.dt[train,loan_condition])\n",
    "fitc"
   ]
  },
  {
   "cell_type": "code",
   "execution_count": null,
   "metadata": {},
   "outputs": [],
   "source": [
    "loan_train <- loan.dt[train]\n",
    "loan_test <- loan.dt[-train]"
   ]
  },
  {
   "cell_type": "code",
   "execution_count": null,
   "metadata": {},
   "outputs": [],
   "source": []
  },
  {
   "cell_type": "code",
   "execution_count": null,
   "metadata": {},
   "outputs": [],
   "source": [
    "plot(fitc1)"
   ]
  },
  {
   "cell_type": "code",
   "execution_count": null,
   "metadata": {},
   "outputs": [],
   "source": [
    "summary(fitc1)"
   ]
  },
  {
   "cell_type": "code",
   "execution_count": null,
   "metadata": {},
   "outputs": [],
   "source": [
    "fitc_rules <- C50::C5.0(  loan_condition ~., \n",
    "                         data = loan.dt[train ,],\n",
    "                         rules = TRUE )\n",
    "summary(fitc_rules)"
   ]
  },
  {
   "cell_type": "code",
   "execution_count": null,
   "metadata": {},
   "outputs": [],
   "source": [
    "predc_train <- predict(fitc,\n",
    "                       newdata = loan.dt[train],\n",
    "                       type = \"class\")"
   ]
  },
  {
   "cell_type": "code",
   "execution_count": null,
   "metadata": {},
   "outputs": [],
   "source": [
    "dt_ct6 <- gmodels::CrossTable(loan.dt[train, loan_condition],\n",
    "                              predc_train,\n",
    "                              prop.chisq = FALSE,\n",
    "                              prop.c = FALSE,\n",
    "                              prop.r = FALSE,\n",
    "                              dnn = c('actual default', 'predicted default'))"
   ]
  },
  {
   "cell_type": "code",
   "execution_count": null,
   "metadata": {},
   "outputs": [],
   "source": [
    "predc <- predict(fitc,\n",
    "                 newdata = loan.dt[-train],\n",
    "                 type = \"class\")"
   ]
  },
  {
   "cell_type": "code",
   "execution_count": null,
   "metadata": {},
   "outputs": [],
   "source": [
    "dt_ct7 <- gmodels::CrossTable(loan.dt[-train, loan_condition],\n",
    "                              predc,\n",
    "                              prop.chisq = FALSE,\n",
    "                              prop.c = FALSE,\n",
    "                              prop.r = FALSE,\n",
    "                              dnn = c('actual default', 'predicted default'))"
   ]
  },
  {
   "cell_type": "code",
   "execution_count": null,
   "metadata": {},
   "outputs": [],
   "source": [
    "fit <- tree::tree( loan_condition ~.,\n",
    "                  data = loan.dt[train],\n",
    "                  split = \"deviance\" )\n",
    "plot(fit)\n",
    "text(fit)"
   ]
  },
  {
   "cell_type": "code",
   "execution_count": null,
   "metadata": {},
   "outputs": [],
   "source": [
    "summary(fit)"
   ]
  },
  {
   "cell_type": "code",
   "execution_count": null,
   "metadata": {},
   "outputs": [],
   "source": [
    "pred <- predict(fit,\n",
    "                newdata = loan.dt[-train])\n",
    "pred"
   ]
  },
  {
   "cell_type": "code",
   "execution_count": null,
   "metadata": {},
   "outputs": [],
   "source": [
    "pred_class <- colnames(pred)[max.col(pred,\n",
    "                                     ties.method = c(\"random\"))]"
   ]
  },
  {
   "cell_type": "code",
   "execution_count": null,
   "metadata": {},
   "outputs": [],
   "source": [
    "dt_ct8 <- gmodels::CrossTable(loan.dt[-train, loan_condition],\n",
    "                              pred_class,\n",
    "                              prop.chisq = FALSE,\n",
    "                              prop.c = FALSE,\n",
    "                              prop.r = FALSE,\n",
    "                              dnn = c('actual default', 'predicted default'))"
   ]
  },
  {
   "cell_type": "code",
   "execution_count": null,
   "metadata": {},
   "outputs": [],
   "source": [
    "loan_boost10 <- C5.0(loan_train[,-\"loan_condition\"],\n",
    "                       loan_train$loan_condition,\n",
    "                       trials = 10)"
   ]
  },
  {
   "cell_type": "code",
   "execution_count": null,
   "metadata": {},
   "outputs": [],
   "source": [
    "loan_boost10"
   ]
  },
  {
   "cell_type": "code",
   "execution_count": null,
   "metadata": {},
   "outputs": [],
   "source": [
    "summary(loan_boost10)"
   ]
  },
  {
   "cell_type": "code",
   "execution_count": null,
   "metadata": {},
   "outputs": [],
   "source": [
    "loan_result_boost10 <- predict(loan_boost10, loan_train)"
   ]
  },
  {
   "cell_type": "code",
   "execution_count": null,
   "metadata": {},
   "outputs": [],
   "source": [
    "ct_dt3 <- gmodels::CrossTable(loan_train$loan_condition, loan_result_boost10, prop.chisq = F, prop.c = F, prop.r = F,\n",
    "dnn = c('actual default', 'predicted default'))\n",
    "\n",
    "ct_dt3"
   ]
  },
  {
   "cell_type": "code",
   "execution_count": null,
   "metadata": {},
   "outputs": [],
   "source": [
    "ct_dt3$prop.tbl %>%\n",
    "    diag() %>%\n",
    "    sum() %>%\n",
    "    scales::percent(accuracy = 0.01)"
   ]
  },
  {
   "cell_type": "code",
   "execution_count": null,
   "metadata": {},
   "outputs": [],
   "source": [
    "loan_pred_boost10 <- predict(loan_boost10, loan_test)"
   ]
  },
  {
   "cell_type": "code",
   "execution_count": null,
   "metadata": {},
   "outputs": [],
   "source": [
    "ct_dt4 <- gmodels::CrossTable(loan_test$loan_condition, loan_pred_boost10, prop.chisq = F, prop.c = F, prop.r = F,\n",
    "dnn = c('actual default', 'predicted default'))"
   ]
  },
  {
   "cell_type": "code",
   "execution_count": null,
   "metadata": {},
   "outputs": [],
   "source": [
    "ct_dt4"
   ]
  },
  {
   "cell_type": "code",
   "execution_count": null,
   "metadata": {},
   "outputs": [],
   "source": [
    "ct_dt4$t %>% knitr::kable() %>% as.character() %>% IRdisplay::display_html()"
   ]
  },
  {
   "cell_type": "code",
   "execution_count": null,
   "metadata": {},
   "outputs": [],
   "source": [
    "ct_dt4$prop.tbl %>%\n",
    "    diag() %>%\n",
    "    sum() %>%\n",
    "    scales::percent(accuracy = 0.01)"
   ]
  }
 ],
 "metadata": {
  "kernelspec": {
   "display_name": "R",
   "language": "R",
   "name": "ir"
  },
  "language_info": {
   "codemirror_mode": "r",
   "file_extension": ".r",
   "mimetype": "text/x-r-source",
   "name": "R",
   "pygments_lexer": "r",
   "version": "3.4.4"
  },
  "toc": {
   "base_numbering": 1,
   "nav_menu": {},
   "number_sections": true,
   "sideBar": true,
   "skip_h1_title": false,
   "title_cell": "Table of Contents",
   "title_sidebar": "Contents",
   "toc_cell": false,
   "toc_position": {},
   "toc_section_display": true,
   "toc_window_display": false
  }
 },
 "nbformat": 4,
 "nbformat_minor": 2
}
